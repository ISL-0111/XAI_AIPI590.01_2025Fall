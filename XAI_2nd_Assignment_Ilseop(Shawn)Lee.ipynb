{
  "nbformat": 4,
  "nbformat_minor": 0,
  "metadata": {
    "colab": {
      "provenance": [],
      "authorship_tag": "ABX9TyPT5YGY6ZFm6ipjWSVIQRFw",
      "include_colab_link": true
    },
    "kernelspec": {
      "name": "python3",
      "display_name": "Python 3"
    },
    "language_info": {
      "name": "python"
    }
  },
  "cells": [
    {
      "cell_type": "markdown",
      "metadata": {
        "id": "view-in-github",
        "colab_type": "text"
      },
      "source": [
        "<a href=\"https://colab.research.google.com/github/ISL-0111/XAI_AIPI590.01_2025Fall/blob/main/XAI_2nd_Assignment_Ilseop(Shawn)Lee.ipynb\" target=\"_parent\"><img src=\"https://colab.research.google.com/assets/colab-badge.svg\" alt=\"Open In Colab\"/></a>"
      ]
    },
    {
      "cell_type": "markdown",
      "source": [
        "#### Tasks\n",
        "\n",
        "1. Exploratory Data Analysis to check Assumptions: Perform an exploratory analysis of the dataset to understand the relationships between different features and the target variable (churn). Use appropriate visualizations and statistical methods to determine whether assumptions about linear, logistic, and GAM models are met.\n",
        "2. Linear Regression: Treat the churn variable as a continuous variable (e.g., 0 for staying, 1 for churning) and build a linear regression model to predict churn. Interpret the coefficients and assess the model's performance.\n",
        "3. Logistic Regression: Treat churn as a binary variable and build a logistic regression model to predict the probability of churn. Interpret the coefficients.\n",
        "4. Generalized Additive Model (GAM): Build a GAM to model the non-linear relationships between customer features and churn. Interpret the GAM model.\n",
        "5. Model Comparison: Compare the performance and interpretability of the different models you built. Discuss the strengths and weaknesses of each approach and provide recommendations for which model(s) the telecommunications company should use to address their customer churn problem.\n",
        "\n",
        "\n",
        "Rubric\n",
        "- Notebook is well documented and includes details and references to the dataset and models used Assumptions are evaluated with exploratory data analysis and explained in markdown inside the notebook\n",
        "- Code implementing the linear regression model is correct\n",
        "- Code implementing the linear regression model is clear and well documented\n",
        "- Linear regression model is interpreted appropriately and interpretation is discussed in markdown\n",
        "- Code implementing the logistic regression model is correct\n",
        "- Code implementing the logistic regression model is clear and well documented\n",
        "- Logistic regression model is interpreted appropriately and interpretation is discussed in markdown\n",
        "- Code implementing the GAM is correct\n",
        "- Code implementing the GAM is clear and well documented\n",
        "- GAM is interpreted appropriately and interpretation is discussed in markdown\n",
        "- A discussion of the strengths and weaknesses of each approach is included in markdown\n",
        "- Recommendations for which model(s) the telecommunications company should use to address their customer churn problem are provided and explained in markdown"
      ],
      "metadata": {
        "id": "8MWrt6ZNIyii"
      }
    },
    {
      "cell_type": "code",
      "execution_count": null,
      "metadata": {
        "id": "xlA8DO9zItFj"
      },
      "outputs": [],
      "source": []
    }
  ]
}